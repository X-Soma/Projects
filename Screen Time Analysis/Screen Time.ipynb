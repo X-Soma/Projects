{
 "cells": [
  {
   "cell_type": "code",
   "execution_count": null,
   "metadata": {},
   "outputs": [],
   "source": [
    "import pandas as pd\n",
    "import numpy as np\n",
    "import plotly.express as px\n",
    "import plotly.graph_objects as go\n",
    "\n",
    "df = pd.read_csv(\"Screentime Details.csv\")\n",
    "print(df.head())"
   ]
  },
  {
   "cell_type": "code",
   "execution_count": null,
   "metadata": {},
   "outputs": [],
   "source": [
    "df.isnull().sum()"
   ]
  },
  {
   "cell_type": "code",
   "execution_count": null,
   "metadata": {},
   "outputs": [],
   "source": [
    "print(df.describe())"
   ]
  },
  {
   "cell_type": "code",
   "execution_count": null,
   "metadata": {},
   "outputs": [],
   "source": [
    "figure = px.bar(data_frame=df,\n",
    "                x = \"Date\",\n",
    "                y = \"Usage\",\n",
    "                color = \"App\",\n",
    "                title = \"Usage\")\n",
    "figure.show"
   ]
  },
  {
   "cell_type": "code",
   "execution_count": null,
   "metadata": {},
   "outputs": [],
   "source": [
    "figure = px.bar(data_frame=df,\n",
    "                x = \"Date\",\n",
    "                y = \"Notifications\",\n",
    "                color = \"App\",\n",
    "                title = \"Notifications\")\n",
    "figure.show()"
   ]
  },
  {
   "cell_type": "code",
   "execution_count": null,
   "metadata": {},
   "outputs": [],
   "source": [
    "figure = px.bar(data_frame=df,\n",
    "                x = \"Date\",\n",
    "                y = \"Times Opened\",\n",
    "                color = \"App\",\n",
    "                title = \"Times Opened\")\n",
    "figure.show()"
   ]
  },
  {
   "cell_type": "code",
   "execution_count": null,
   "metadata": {},
   "outputs": [],
   "source": [
    "figure = px.scatter(data_frame = df,\n",
    "                    x = \"Notifications\",\n",
    "                    y = \"Usage\",\n",
    "                    size = \"Notifications\",\n",
    "                    trendline = \"ols\",\n",
    "                    title = \"Relationship Between Number of Notifications and usage\")"
   ]
  }
 ],
 "metadata": {
  "language_info": {
   "name": "python"
  },
  "orig_nbformat": 4
 },
 "nbformat": 4,
 "nbformat_minor": 2
}
