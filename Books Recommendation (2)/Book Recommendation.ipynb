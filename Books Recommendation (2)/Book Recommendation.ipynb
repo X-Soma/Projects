{
 "cells": [
  {
   "cell_type": "code",
   "execution_count": 6,
   "metadata": {},
   "outputs": [
    {
     "name": "stderr",
     "output_type": "stream",
     "text": [
      "C:\\Users\\Summer\\AppData\\Local\\Temp\\ipykernel_29080\\3821214228.py:4: DtypeWarning: Columns (3) have mixed types. Specify dtype option on import or set low_memory=False.\n",
      "  books = pd.read_csv(\"Books.csv\")\n"
     ]
    }
   ],
   "source": [
    "import numpy as np \n",
    "import pandas as pd\n",
    "\n",
    "books = pd.read_csv(\"Books.csv\")\n",
    "ratings = pd.read_csv(\"Ratings.csv\")"
   ]
  },
  {
   "cell_type": "code",
   "execution_count": 7,
   "metadata": {},
   "outputs": [
    {
     "data": {
      "text/html": [
       "<div>\n",
       "<style scoped>\n",
       "    .dataframe tbody tr th:only-of-type {\n",
       "        vertical-align: middle;\n",
       "    }\n",
       "\n",
       "    .dataframe tbody tr th {\n",
       "        vertical-align: top;\n",
       "    }\n",
       "\n",
       "    .dataframe thead th {\n",
       "        text-align: right;\n",
       "    }\n",
       "</style>\n",
       "<table border=\"1\" class=\"dataframe\">\n",
       "  <thead>\n",
       "    <tr style=\"text-align: right;\">\n",
       "      <th></th>\n",
       "      <th>ISBN</th>\n",
       "      <th>Book-Title</th>\n",
       "      <th>Book-Author</th>\n",
       "      <th>Year-Of-Publication</th>\n",
       "      <th>Publisher</th>\n",
       "      <th>Image-URL-S</th>\n",
       "      <th>Image-URL-M</th>\n",
       "      <th>Image-URL-L</th>\n",
       "    </tr>\n",
       "  </thead>\n",
       "  <tbody>\n",
       "    <tr>\n",
       "      <th>0</th>\n",
       "      <td>0195153448</td>\n",
       "      <td>Classical Mythology</td>\n",
       "      <td>Mark P. O. Morford</td>\n",
       "      <td>2002</td>\n",
       "      <td>Oxford University Press</td>\n",
       "      <td>http://images.amazon.com/images/P/0195153448.0...</td>\n",
       "      <td>http://images.amazon.com/images/P/0195153448.0...</td>\n",
       "      <td>http://images.amazon.com/images/P/0195153448.0...</td>\n",
       "    </tr>\n",
       "    <tr>\n",
       "      <th>1</th>\n",
       "      <td>0002005018</td>\n",
       "      <td>Clara Callan</td>\n",
       "      <td>Richard Bruce Wright</td>\n",
       "      <td>2001</td>\n",
       "      <td>HarperFlamingo Canada</td>\n",
       "      <td>http://images.amazon.com/images/P/0002005018.0...</td>\n",
       "      <td>http://images.amazon.com/images/P/0002005018.0...</td>\n",
       "      <td>http://images.amazon.com/images/P/0002005018.0...</td>\n",
       "    </tr>\n",
       "    <tr>\n",
       "      <th>2</th>\n",
       "      <td>0060973129</td>\n",
       "      <td>Decision in Normandy</td>\n",
       "      <td>Carlo D'Este</td>\n",
       "      <td>1991</td>\n",
       "      <td>HarperPerennial</td>\n",
       "      <td>http://images.amazon.com/images/P/0060973129.0...</td>\n",
       "      <td>http://images.amazon.com/images/P/0060973129.0...</td>\n",
       "      <td>http://images.amazon.com/images/P/0060973129.0...</td>\n",
       "    </tr>\n",
       "    <tr>\n",
       "      <th>3</th>\n",
       "      <td>0374157065</td>\n",
       "      <td>Flu: The Story of the Great Influenza Pandemic...</td>\n",
       "      <td>Gina Bari Kolata</td>\n",
       "      <td>1999</td>\n",
       "      <td>Farrar Straus Giroux</td>\n",
       "      <td>http://images.amazon.com/images/P/0374157065.0...</td>\n",
       "      <td>http://images.amazon.com/images/P/0374157065.0...</td>\n",
       "      <td>http://images.amazon.com/images/P/0374157065.0...</td>\n",
       "    </tr>\n",
       "    <tr>\n",
       "      <th>4</th>\n",
       "      <td>0393045218</td>\n",
       "      <td>The Mummies of Urumchi</td>\n",
       "      <td>E. J. W. Barber</td>\n",
       "      <td>1999</td>\n",
       "      <td>W. W. Norton &amp;amp; Company</td>\n",
       "      <td>http://images.amazon.com/images/P/0393045218.0...</td>\n",
       "      <td>http://images.amazon.com/images/P/0393045218.0...</td>\n",
       "      <td>http://images.amazon.com/images/P/0393045218.0...</td>\n",
       "    </tr>\n",
       "  </tbody>\n",
       "</table>\n",
       "</div>"
      ],
      "text/plain": [
       "         ISBN                                         Book-Title  \\\n",
       "0  0195153448                                Classical Mythology   \n",
       "1  0002005018                                       Clara Callan   \n",
       "2  0060973129                               Decision in Normandy   \n",
       "3  0374157065  Flu: The Story of the Great Influenza Pandemic...   \n",
       "4  0393045218                             The Mummies of Urumchi   \n",
       "\n",
       "            Book-Author Year-Of-Publication                   Publisher  \\\n",
       "0    Mark P. O. Morford                2002     Oxford University Press   \n",
       "1  Richard Bruce Wright                2001       HarperFlamingo Canada   \n",
       "2          Carlo D'Este                1991             HarperPerennial   \n",
       "3      Gina Bari Kolata                1999        Farrar Straus Giroux   \n",
       "4       E. J. W. Barber                1999  W. W. Norton &amp; Company   \n",
       "\n",
       "                                         Image-URL-S  \\\n",
       "0  http://images.amazon.com/images/P/0195153448.0...   \n",
       "1  http://images.amazon.com/images/P/0002005018.0...   \n",
       "2  http://images.amazon.com/images/P/0060973129.0...   \n",
       "3  http://images.amazon.com/images/P/0374157065.0...   \n",
       "4  http://images.amazon.com/images/P/0393045218.0...   \n",
       "\n",
       "                                         Image-URL-M  \\\n",
       "0  http://images.amazon.com/images/P/0195153448.0...   \n",
       "1  http://images.amazon.com/images/P/0002005018.0...   \n",
       "2  http://images.amazon.com/images/P/0060973129.0...   \n",
       "3  http://images.amazon.com/images/P/0374157065.0...   \n",
       "4  http://images.amazon.com/images/P/0393045218.0...   \n",
       "\n",
       "                                         Image-URL-L  \n",
       "0  http://images.amazon.com/images/P/0195153448.0...  \n",
       "1  http://images.amazon.com/images/P/0002005018.0...  \n",
       "2  http://images.amazon.com/images/P/0060973129.0...  \n",
       "3  http://images.amazon.com/images/P/0374157065.0...  \n",
       "4  http://images.amazon.com/images/P/0393045218.0...  "
      ]
     },
     "execution_count": 7,
     "metadata": {},
     "output_type": "execute_result"
    }
   ],
   "source": [
    "books.head()"
   ]
  },
  {
   "cell_type": "code",
   "execution_count": 8,
   "metadata": {},
   "outputs": [
    {
     "data": {
      "text/html": [
       "<div>\n",
       "<style scoped>\n",
       "    .dataframe tbody tr th:only-of-type {\n",
       "        vertical-align: middle;\n",
       "    }\n",
       "\n",
       "    .dataframe tbody tr th {\n",
       "        vertical-align: top;\n",
       "    }\n",
       "\n",
       "    .dataframe thead th {\n",
       "        text-align: right;\n",
       "    }\n",
       "</style>\n",
       "<table border=\"1\" class=\"dataframe\">\n",
       "  <thead>\n",
       "    <tr style=\"text-align: right;\">\n",
       "      <th></th>\n",
       "      <th>User-ID</th>\n",
       "      <th>ISBN</th>\n",
       "      <th>Book-Rating</th>\n",
       "    </tr>\n",
       "  </thead>\n",
       "  <tbody>\n",
       "    <tr>\n",
       "      <th>0</th>\n",
       "      <td>276725</td>\n",
       "      <td>034545104X</td>\n",
       "      <td>0</td>\n",
       "    </tr>\n",
       "    <tr>\n",
       "      <th>1</th>\n",
       "      <td>276726</td>\n",
       "      <td>0155061224</td>\n",
       "      <td>5</td>\n",
       "    </tr>\n",
       "    <tr>\n",
       "      <th>2</th>\n",
       "      <td>276727</td>\n",
       "      <td>0446520802</td>\n",
       "      <td>0</td>\n",
       "    </tr>\n",
       "    <tr>\n",
       "      <th>3</th>\n",
       "      <td>276729</td>\n",
       "      <td>052165615X</td>\n",
       "      <td>3</td>\n",
       "    </tr>\n",
       "    <tr>\n",
       "      <th>4</th>\n",
       "      <td>276729</td>\n",
       "      <td>0521795028</td>\n",
       "      <td>6</td>\n",
       "    </tr>\n",
       "  </tbody>\n",
       "</table>\n",
       "</div>"
      ],
      "text/plain": [
       "   User-ID        ISBN  Book-Rating\n",
       "0   276725  034545104X            0\n",
       "1   276726  0155061224            5\n",
       "2   276727  0446520802            0\n",
       "3   276729  052165615X            3\n",
       "4   276729  0521795028            6"
      ]
     },
     "execution_count": 8,
     "metadata": {},
     "output_type": "execute_result"
    }
   ],
   "source": [
    "ratings.head()"
   ]
  },
  {
   "cell_type": "code",
   "execution_count": 9,
   "metadata": {},
   "outputs": [
    {
     "data": {
      "text/html": [
       "<div>\n",
       "<style scoped>\n",
       "    .dataframe tbody tr th:only-of-type {\n",
       "        vertical-align: middle;\n",
       "    }\n",
       "\n",
       "    .dataframe tbody tr th {\n",
       "        vertical-align: top;\n",
       "    }\n",
       "\n",
       "    .dataframe thead th {\n",
       "        text-align: right;\n",
       "    }\n",
       "</style>\n",
       "<table border=\"1\" class=\"dataframe\">\n",
       "  <thead>\n",
       "    <tr style=\"text-align: right;\">\n",
       "      <th></th>\n",
       "      <th>ISBN</th>\n",
       "      <th>Book-Title</th>\n",
       "      <th>Book-Author</th>\n",
       "      <th>Year-Of-Publication</th>\n",
       "      <th>Publisher</th>\n",
       "      <th>Image-URL-S</th>\n",
       "      <th>Image-URL-M</th>\n",
       "      <th>Image-URL-L</th>\n",
       "      <th>User-ID</th>\n",
       "      <th>Book-Rating</th>\n",
       "    </tr>\n",
       "  </thead>\n",
       "  <tbody>\n",
       "    <tr>\n",
       "      <th>0</th>\n",
       "      <td>0195153448</td>\n",
       "      <td>Classical Mythology</td>\n",
       "      <td>Mark P. O. Morford</td>\n",
       "      <td>2002</td>\n",
       "      <td>Oxford University Press</td>\n",
       "      <td>http://images.amazon.com/images/P/0195153448.0...</td>\n",
       "      <td>http://images.amazon.com/images/P/0195153448.0...</td>\n",
       "      <td>http://images.amazon.com/images/P/0195153448.0...</td>\n",
       "      <td>2.0</td>\n",
       "      <td>0.0</td>\n",
       "    </tr>\n",
       "    <tr>\n",
       "      <th>1</th>\n",
       "      <td>0002005018</td>\n",
       "      <td>Clara Callan</td>\n",
       "      <td>Richard Bruce Wright</td>\n",
       "      <td>2001</td>\n",
       "      <td>HarperFlamingo Canada</td>\n",
       "      <td>http://images.amazon.com/images/P/0002005018.0...</td>\n",
       "      <td>http://images.amazon.com/images/P/0002005018.0...</td>\n",
       "      <td>http://images.amazon.com/images/P/0002005018.0...</td>\n",
       "      <td>8.0</td>\n",
       "      <td>5.0</td>\n",
       "    </tr>\n",
       "    <tr>\n",
       "      <th>2</th>\n",
       "      <td>0002005018</td>\n",
       "      <td>Clara Callan</td>\n",
       "      <td>Richard Bruce Wright</td>\n",
       "      <td>2001</td>\n",
       "      <td>HarperFlamingo Canada</td>\n",
       "      <td>http://images.amazon.com/images/P/0002005018.0...</td>\n",
       "      <td>http://images.amazon.com/images/P/0002005018.0...</td>\n",
       "      <td>http://images.amazon.com/images/P/0002005018.0...</td>\n",
       "      <td>11400.0</td>\n",
       "      <td>0.0</td>\n",
       "    </tr>\n",
       "    <tr>\n",
       "      <th>3</th>\n",
       "      <td>0002005018</td>\n",
       "      <td>Clara Callan</td>\n",
       "      <td>Richard Bruce Wright</td>\n",
       "      <td>2001</td>\n",
       "      <td>HarperFlamingo Canada</td>\n",
       "      <td>http://images.amazon.com/images/P/0002005018.0...</td>\n",
       "      <td>http://images.amazon.com/images/P/0002005018.0...</td>\n",
       "      <td>http://images.amazon.com/images/P/0002005018.0...</td>\n",
       "      <td>11676.0</td>\n",
       "      <td>8.0</td>\n",
       "    </tr>\n",
       "    <tr>\n",
       "      <th>4</th>\n",
       "      <td>0002005018</td>\n",
       "      <td>Clara Callan</td>\n",
       "      <td>Richard Bruce Wright</td>\n",
       "      <td>2001</td>\n",
       "      <td>HarperFlamingo Canada</td>\n",
       "      <td>http://images.amazon.com/images/P/0002005018.0...</td>\n",
       "      <td>http://images.amazon.com/images/P/0002005018.0...</td>\n",
       "      <td>http://images.amazon.com/images/P/0002005018.0...</td>\n",
       "      <td>41385.0</td>\n",
       "      <td>0.0</td>\n",
       "    </tr>\n",
       "  </tbody>\n",
       "</table>\n",
       "</div>"
      ],
      "text/plain": [
       "         ISBN           Book-Title           Book-Author Year-Of-Publication  \\\n",
       "0  0195153448  Classical Mythology    Mark P. O. Morford                2002   \n",
       "1  0002005018         Clara Callan  Richard Bruce Wright                2001   \n",
       "2  0002005018         Clara Callan  Richard Bruce Wright                2001   \n",
       "3  0002005018         Clara Callan  Richard Bruce Wright                2001   \n",
       "4  0002005018         Clara Callan  Richard Bruce Wright                2001   \n",
       "\n",
       "                 Publisher                                        Image-URL-S  \\\n",
       "0  Oxford University Press  http://images.amazon.com/images/P/0195153448.0...   \n",
       "1    HarperFlamingo Canada  http://images.amazon.com/images/P/0002005018.0...   \n",
       "2    HarperFlamingo Canada  http://images.amazon.com/images/P/0002005018.0...   \n",
       "3    HarperFlamingo Canada  http://images.amazon.com/images/P/0002005018.0...   \n",
       "4    HarperFlamingo Canada  http://images.amazon.com/images/P/0002005018.0...   \n",
       "\n",
       "                                         Image-URL-M  \\\n",
       "0  http://images.amazon.com/images/P/0195153448.0...   \n",
       "1  http://images.amazon.com/images/P/0002005018.0...   \n",
       "2  http://images.amazon.com/images/P/0002005018.0...   \n",
       "3  http://images.amazon.com/images/P/0002005018.0...   \n",
       "4  http://images.amazon.com/images/P/0002005018.0...   \n",
       "\n",
       "                                         Image-URL-L  User-ID  Book-Rating  \n",
       "0  http://images.amazon.com/images/P/0195153448.0...      2.0          0.0  \n",
       "1  http://images.amazon.com/images/P/0002005018.0...      8.0          5.0  \n",
       "2  http://images.amazon.com/images/P/0002005018.0...  11400.0          0.0  \n",
       "3  http://images.amazon.com/images/P/0002005018.0...  11676.0          8.0  \n",
       "4  http://images.amazon.com/images/P/0002005018.0...  41385.0          0.0  "
      ]
     },
     "execution_count": 9,
     "metadata": {},
     "output_type": "execute_result"
    }
   ],
   "source": [
    "df = books.merge(ratings, how=\"left\", on=\"ISBN\" )\n",
    "df.head()"
   ]
  },
  {
   "cell_type": "code",
   "execution_count": 10,
   "metadata": {},
   "outputs": [
    {
     "data": {
      "text/plain": [
       "(1032345, 10)"
      ]
     },
     "execution_count": 10,
     "metadata": {},
     "output_type": "execute_result"
    }
   ],
   "source": [
    "df.shape"
   ]
  },
  {
   "cell_type": "code",
   "execution_count": 11,
   "metadata": {},
   "outputs": [
    {
     "data": {
      "text/plain": [
       "ISBN                      0\n",
       "Book-Title                0\n",
       "Book-Author               1\n",
       "Year-Of-Publication       0\n",
       "Publisher                 2\n",
       "Image-URL-S               0\n",
       "Image-URL-M               0\n",
       "Image-URL-L               4\n",
       "User-ID                1209\n",
       "Book-Rating            1209\n",
       "dtype: int64"
      ]
     },
     "execution_count": 11,
     "metadata": {},
     "output_type": "execute_result"
    }
   ],
   "source": [
    "df.isnull().sum()"
   ]
  },
  {
   "cell_type": "code",
   "execution_count": 12,
   "metadata": {},
   "outputs": [
    {
     "data": {
      "text/html": [
       "<div>\n",
       "<style scoped>\n",
       "    .dataframe tbody tr th:only-of-type {\n",
       "        vertical-align: middle;\n",
       "    }\n",
       "\n",
       "    .dataframe tbody tr th {\n",
       "        vertical-align: top;\n",
       "    }\n",
       "\n",
       "    .dataframe thead th {\n",
       "        text-align: right;\n",
       "    }\n",
       "</style>\n",
       "<table border=\"1\" class=\"dataframe\">\n",
       "  <thead>\n",
       "    <tr style=\"text-align: right;\">\n",
       "      <th></th>\n",
       "      <th>ISBN</th>\n",
       "      <th>Book-Title</th>\n",
       "      <th>Book-Author</th>\n",
       "      <th>Year-Of-Publication</th>\n",
       "      <th>Publisher</th>\n",
       "      <th>Image-URL-S</th>\n",
       "      <th>Image-URL-M</th>\n",
       "      <th>Image-URL-L</th>\n",
       "      <th>User-ID</th>\n",
       "      <th>Book-Rating</th>\n",
       "    </tr>\n",
       "  </thead>\n",
       "  <tbody>\n",
       "    <tr>\n",
       "      <th>65244</th>\n",
       "      <td>044990671X</td>\n",
       "      <td>Bronze Mirror</td>\n",
       "      <td>Jeanne Larsen</td>\n",
       "      <td>1992</td>\n",
       "      <td>Ballantine Books</td>\n",
       "      <td>http://images.amazon.com/images/P/044990671X.0...</td>\n",
       "      <td>http://images.amazon.com/images/P/044990671X.0...</td>\n",
       "      <td>http://images.amazon.com/images/P/044990671X.0...</td>\n",
       "      <td>NaN</td>\n",
       "      <td>NaN</td>\n",
       "    </tr>\n",
       "    <tr>\n",
       "      <th>65253</th>\n",
       "      <td>0929587081</td>\n",
       "      <td>Men and Brethren</td>\n",
       "      <td>James Gould Cozzens</td>\n",
       "      <td>1989</td>\n",
       "      <td>Elephant Paperbacks</td>\n",
       "      <td>http://images.amazon.com/images/P/0929587081.0...</td>\n",
       "      <td>http://images.amazon.com/images/P/0929587081.0...</td>\n",
       "      <td>http://images.amazon.com/images/P/0929587081.0...</td>\n",
       "      <td>NaN</td>\n",
       "      <td>NaN</td>\n",
       "    </tr>\n",
       "    <tr>\n",
       "      <th>65254</th>\n",
       "      <td>155970117X</td>\n",
       "      <td>My Father, His Son</td>\n",
       "      <td>Reidar Jonsson</td>\n",
       "      <td>1991</td>\n",
       "      <td>Little Brown &amp;amp; Co</td>\n",
       "      <td>http://images.amazon.com/images/P/155970117X.0...</td>\n",
       "      <td>http://images.amazon.com/images/P/155970117X.0...</td>\n",
       "      <td>http://images.amazon.com/images/P/155970117X.0...</td>\n",
       "      <td>NaN</td>\n",
       "      <td>NaN</td>\n",
       "    </tr>\n",
       "    <tr>\n",
       "      <th>65255</th>\n",
       "      <td>0688105408</td>\n",
       "      <td>Starlings Laughing: A Memoir of Africa</td>\n",
       "      <td>June Vendall Clark</td>\n",
       "      <td>1991</td>\n",
       "      <td>Harpercollins</td>\n",
       "      <td>http://images.amazon.com/images/P/0688105408.0...</td>\n",
       "      <td>http://images.amazon.com/images/P/0688105408.0...</td>\n",
       "      <td>http://images.amazon.com/images/P/0688105408.0...</td>\n",
       "      <td>NaN</td>\n",
       "      <td>NaN</td>\n",
       "    </tr>\n",
       "    <tr>\n",
       "      <th>124362</th>\n",
       "      <td>0671568485</td>\n",
       "      <td>The STAR TREK THE RETURN</td>\n",
       "      <td>William Shatner</td>\n",
       "      <td>1996</td>\n",
       "      <td>Audioworks</td>\n",
       "      <td>http://images.amazon.com/images/P/0671568485.0...</td>\n",
       "      <td>http://images.amazon.com/images/P/0671568485.0...</td>\n",
       "      <td>http://images.amazon.com/images/P/0671568485.0...</td>\n",
       "      <td>NaN</td>\n",
       "      <td>NaN</td>\n",
       "    </tr>\n",
       "    <tr>\n",
       "      <th>...</th>\n",
       "      <td>...</td>\n",
       "      <td>...</td>\n",
       "      <td>...</td>\n",
       "      <td>...</td>\n",
       "      <td>...</td>\n",
       "      <td>...</td>\n",
       "      <td>...</td>\n",
       "      <td>...</td>\n",
       "      <td>...</td>\n",
       "      <td>...</td>\n",
       "    </tr>\n",
       "    <tr>\n",
       "      <th>1032326</th>\n",
       "      <td>1874166633</td>\n",
       "      <td>Introducing Nietzsche (Foundations in Children...</td>\n",
       "      <td>Laurence Gane</td>\n",
       "      <td>1998</td>\n",
       "      <td>Natl Book Network</td>\n",
       "      <td>http://images.amazon.com/images/P/1874166633.0...</td>\n",
       "      <td>http://images.amazon.com/images/P/1874166633.0...</td>\n",
       "      <td>http://images.amazon.com/images/P/1874166633.0...</td>\n",
       "      <td>NaN</td>\n",
       "      <td>NaN</td>\n",
       "    </tr>\n",
       "    <tr>\n",
       "      <th>1032327</th>\n",
       "      <td>0130897930</td>\n",
       "      <td>Core Web Programming (2nd Edition)</td>\n",
       "      <td>Marty Hall</td>\n",
       "      <td>2001</td>\n",
       "      <td>Prentice Hall PTR</td>\n",
       "      <td>http://images.amazon.com/images/P/0130897930.0...</td>\n",
       "      <td>http://images.amazon.com/images/P/0130897930.0...</td>\n",
       "      <td>http://images.amazon.com/images/P/0130897930.0...</td>\n",
       "      <td>NaN</td>\n",
       "      <td>NaN</td>\n",
       "    </tr>\n",
       "    <tr>\n",
       "      <th>1032328</th>\n",
       "      <td>020130998X</td>\n",
       "      <td>The Unified Modeling Language Reference Manual...</td>\n",
       "      <td>James Rumbaugh</td>\n",
       "      <td>1998</td>\n",
       "      <td>Addison-Wesley Professional</td>\n",
       "      <td>http://images.amazon.com/images/P/020130998X.0...</td>\n",
       "      <td>http://images.amazon.com/images/P/020130998X.0...</td>\n",
       "      <td>http://images.amazon.com/images/P/020130998X.0...</td>\n",
       "      <td>NaN</td>\n",
       "      <td>NaN</td>\n",
       "    </tr>\n",
       "    <tr>\n",
       "      <th>1032329</th>\n",
       "      <td>2268032019</td>\n",
       "      <td>Petite histoire de la dÃ?Â©sinformation</td>\n",
       "      <td>Vladimir Volkoff</td>\n",
       "      <td>1999</td>\n",
       "      <td>Editions du Rocher</td>\n",
       "      <td>http://images.amazon.com/images/P/2268032019.0...</td>\n",
       "      <td>http://images.amazon.com/images/P/2268032019.0...</td>\n",
       "      <td>http://images.amazon.com/images/P/2268032019.0...</td>\n",
       "      <td>NaN</td>\n",
       "      <td>NaN</td>\n",
       "    </tr>\n",
       "    <tr>\n",
       "      <th>1032332</th>\n",
       "      <td>3442150663</td>\n",
       "      <td>Der Mossad.</td>\n",
       "      <td>Victor Ostrovsky</td>\n",
       "      <td>2000</td>\n",
       "      <td>Goldmann</td>\n",
       "      <td>http://images.amazon.com/images/P/3442150663.0...</td>\n",
       "      <td>http://images.amazon.com/images/P/3442150663.0...</td>\n",
       "      <td>http://images.amazon.com/images/P/3442150663.0...</td>\n",
       "      <td>NaN</td>\n",
       "      <td>NaN</td>\n",
       "    </tr>\n",
       "  </tbody>\n",
       "</table>\n",
       "<p>1209 rows × 10 columns</p>\n",
       "</div>"
      ],
      "text/plain": [
       "               ISBN                                         Book-Title  \\\n",
       "65244    044990671X                                      Bronze Mirror   \n",
       "65253    0929587081                                   Men and Brethren   \n",
       "65254    155970117X                                 My Father, His Son   \n",
       "65255    0688105408             Starlings Laughing: A Memoir of Africa   \n",
       "124362   0671568485                           The STAR TREK THE RETURN   \n",
       "...             ...                                                ...   \n",
       "1032326  1874166633  Introducing Nietzsche (Foundations in Children...   \n",
       "1032327  0130897930                 Core Web Programming (2nd Edition)   \n",
       "1032328  020130998X  The Unified Modeling Language Reference Manual...   \n",
       "1032329  2268032019            Petite histoire de la dÃ?Â©sinformation   \n",
       "1032332  3442150663                                        Der Mossad.   \n",
       "\n",
       "                 Book-Author Year-Of-Publication                    Publisher  \\\n",
       "65244          Jeanne Larsen                1992             Ballantine Books   \n",
       "65253    James Gould Cozzens                1989          Elephant Paperbacks   \n",
       "65254         Reidar Jonsson                1991        Little Brown &amp; Co   \n",
       "65255     June Vendall Clark                1991                Harpercollins   \n",
       "124362       William Shatner                1996                   Audioworks   \n",
       "...                      ...                 ...                          ...   \n",
       "1032326        Laurence Gane                1998            Natl Book Network   \n",
       "1032327           Marty Hall                2001            Prentice Hall PTR   \n",
       "1032328       James Rumbaugh                1998  Addison-Wesley Professional   \n",
       "1032329     Vladimir Volkoff                1999           Editions du Rocher   \n",
       "1032332     Victor Ostrovsky                2000                     Goldmann   \n",
       "\n",
       "                                               Image-URL-S  \\\n",
       "65244    http://images.amazon.com/images/P/044990671X.0...   \n",
       "65253    http://images.amazon.com/images/P/0929587081.0...   \n",
       "65254    http://images.amazon.com/images/P/155970117X.0...   \n",
       "65255    http://images.amazon.com/images/P/0688105408.0...   \n",
       "124362   http://images.amazon.com/images/P/0671568485.0...   \n",
       "...                                                    ...   \n",
       "1032326  http://images.amazon.com/images/P/1874166633.0...   \n",
       "1032327  http://images.amazon.com/images/P/0130897930.0...   \n",
       "1032328  http://images.amazon.com/images/P/020130998X.0...   \n",
       "1032329  http://images.amazon.com/images/P/2268032019.0...   \n",
       "1032332  http://images.amazon.com/images/P/3442150663.0...   \n",
       "\n",
       "                                               Image-URL-M  \\\n",
       "65244    http://images.amazon.com/images/P/044990671X.0...   \n",
       "65253    http://images.amazon.com/images/P/0929587081.0...   \n",
       "65254    http://images.amazon.com/images/P/155970117X.0...   \n",
       "65255    http://images.amazon.com/images/P/0688105408.0...   \n",
       "124362   http://images.amazon.com/images/P/0671568485.0...   \n",
       "...                                                    ...   \n",
       "1032326  http://images.amazon.com/images/P/1874166633.0...   \n",
       "1032327  http://images.amazon.com/images/P/0130897930.0...   \n",
       "1032328  http://images.amazon.com/images/P/020130998X.0...   \n",
       "1032329  http://images.amazon.com/images/P/2268032019.0...   \n",
       "1032332  http://images.amazon.com/images/P/3442150663.0...   \n",
       "\n",
       "                                               Image-URL-L  User-ID  \\\n",
       "65244    http://images.amazon.com/images/P/044990671X.0...      NaN   \n",
       "65253    http://images.amazon.com/images/P/0929587081.0...      NaN   \n",
       "65254    http://images.amazon.com/images/P/155970117X.0...      NaN   \n",
       "65255    http://images.amazon.com/images/P/0688105408.0...      NaN   \n",
       "124362   http://images.amazon.com/images/P/0671568485.0...      NaN   \n",
       "...                                                    ...      ...   \n",
       "1032326  http://images.amazon.com/images/P/1874166633.0...      NaN   \n",
       "1032327  http://images.amazon.com/images/P/0130897930.0...      NaN   \n",
       "1032328  http://images.amazon.com/images/P/020130998X.0...      NaN   \n",
       "1032329  http://images.amazon.com/images/P/2268032019.0...      NaN   \n",
       "1032332  http://images.amazon.com/images/P/3442150663.0...      NaN   \n",
       "\n",
       "         Book-Rating  \n",
       "65244            NaN  \n",
       "65253            NaN  \n",
       "65254            NaN  \n",
       "65255            NaN  \n",
       "124362           NaN  \n",
       "...              ...  \n",
       "1032326          NaN  \n",
       "1032327          NaN  \n",
       "1032328          NaN  \n",
       "1032329          NaN  \n",
       "1032332          NaN  \n",
       "\n",
       "[1209 rows x 10 columns]"
      ]
     },
     "execution_count": 12,
     "metadata": {},
     "output_type": "execute_result"
    }
   ],
   "source": [
    "df[df[\"Book-Rating\"].isnull()]"
   ]
  },
  {
   "cell_type": "code",
   "execution_count": 13,
   "metadata": {},
   "outputs": [
    {
     "data": {
      "text/plain": [
       "ISBN                   0\n",
       "Book-Title             0\n",
       "Book-Author            0\n",
       "Year-Of-Publication    0\n",
       "Publisher              0\n",
       "Image-URL-S            0\n",
       "Image-URL-M            0\n",
       "Image-URL-L            0\n",
       "User-ID                0\n",
       "Book-Rating            0\n",
       "dtype: int64"
      ]
     },
     "execution_count": 13,
     "metadata": {},
     "output_type": "execute_result"
    }
   ],
   "source": [
    "df = df.dropna(subset=[\"Book-Rating\", \"User-ID\", \"Book-Author\",\"Publisher\",\"Image-URL-L\"])\n",
    "\n",
    "df.isnull().sum()"
   ]
  },
  {
   "cell_type": "code",
   "execution_count": 14,
   "metadata": {},
   "outputs": [
    {
     "data": {
      "text/plain": [
       "0.0     647291\n",
       "8.0      91803\n",
       "10.0     71225\n",
       "7.0      66401\n",
       "9.0      60776\n",
       "5.0      45355\n",
       "6.0      31687\n",
       "4.0       7617\n",
       "3.0       5118\n",
       "2.0       2375\n",
       "1.0       1481\n",
       "Name: Book-Rating, dtype: int64"
      ]
     },
     "execution_count": 14,
     "metadata": {},
     "output_type": "execute_result"
    }
   ],
   "source": [
    "df[\"Book-Rating\"].value_counts()"
   ]
  },
  {
   "cell_type": "code",
   "execution_count": 15,
   "metadata": {},
   "outputs": [
    {
     "data": {
      "text/plain": [
       "8.0     91803\n",
       "10.0    71225\n",
       "7.0     66401\n",
       "9.0     60776\n",
       "5.0     45355\n",
       "6.0     31687\n",
       "4.0      7617\n",
       "3.0      5118\n",
       "2.0      2375\n",
       "1.0      1481\n",
       "Name: Book-Rating, dtype: int64"
      ]
     },
     "execution_count": 15,
     "metadata": {},
     "output_type": "execute_result"
    }
   ],
   "source": [
    "#Removing non-Book-Rating from the data sets\n",
    "df = df[df[\"Book-Rating\"] > 0]\n",
    "df[\"Book-Rating\"] .value_counts()"
   ]
  },
  {
   "cell_type": "code",
   "execution_count": 16,
   "metadata": {},
   "outputs": [
    {
     "data": {
      "text/plain": [
       "The Lovely Bones: A Novel                 707\n",
       "Wild Animus                               581\n",
       "The Da Vinci Code                         494\n",
       "The Secret Life of Bees                   406\n",
       "The Nanny Diaries: A Novel                393\n",
       "                                         ... \n",
       "Jedi Quest - Path to Truth (Star Wars)      1\n",
       "Walter's Purple Heart                       1\n",
       "Trapped Fear Street 51                      1\n",
       "Heather Takes the Reins                     1\n",
       "From One to One Hundred                     1\n",
       "Name: Book-Title, Length: 135564, dtype: int64"
      ]
     },
     "execution_count": 16,
     "metadata": {},
     "output_type": "execute_result"
    }
   ],
   "source": [
    "df[\"Book-Title\"].value_counts()"
   ]
  },
  {
   "cell_type": "code",
   "execution_count": 17,
   "metadata": {},
   "outputs": [],
   "source": [
    "rating_counts = pd.DataFrame(df[\"Book-Title\"].value_counts())"
   ]
  },
  {
   "cell_type": "code",
   "execution_count": 18,
   "metadata": {},
   "outputs": [
    {
     "data": {
      "text/plain": [
       "The Lovely Bones: A Novel     707\n",
       "Wild Animus                   581\n",
       "The Da Vinci Code             494\n",
       "The Secret Life of Bees       406\n",
       "The Nanny Diaries: A Novel    393\n",
       "                             ... \n",
       "Congo                         100\n",
       "Deception Point               100\n",
       "Daddy's Little Girl           100\n",
       "Cause of Death                100\n",
       "Disclosure                    100\n",
       "Name: Book-Title, Length: 200, dtype: int64"
      ]
     },
     "execution_count": 18,
     "metadata": {},
     "output_type": "execute_result"
    }
   ],
   "source": [
    "rare_books = rating_counts[rating_counts[\"Book-Title\"]< 100].index\n",
    "common_books = df[~df[\"Book-Title\"].isin(rare_books)]\n",
    "common_books[\"Book-Title\"].value_counts()"
   ]
  },
  {
   "cell_type": "code",
   "execution_count": 19,
   "metadata": {},
   "outputs": [
    {
     "data": {
      "text/plain": [
       "11676.0     225\n",
       "16795.0      81\n",
       "95359.0      61\n",
       "60244.0      46\n",
       "240567.0     42\n",
       "           ... \n",
       "239067.0      1\n",
       "239468.0      1\n",
       "242643.0      1\n",
       "248677.0      1\n",
       "169893.0      1\n",
       "Name: User-ID, Length: 16665, dtype: int64"
      ]
     },
     "execution_count": 19,
     "metadata": {},
     "output_type": "execute_result"
    }
   ],
   "source": [
    "common_books[\"User-ID\"].value_counts()"
   ]
  },
  {
   "cell_type": "code",
   "execution_count": 20,
   "metadata": {},
   "outputs": [
    {
     "data": {
      "text/plain": [
       "11676.0     225\n",
       "16795.0      81\n",
       "95359.0      61\n",
       "60244.0      46\n",
       "240567.0     42\n",
       "           ... \n",
       "232106.0     10\n",
       "104113.0     10\n",
       "78834.0      10\n",
       "74286.0      10\n",
       "208671.0     10\n",
       "Name: User-ID, Length: 434, dtype: int64"
      ]
     },
     "execution_count": 20,
     "metadata": {},
     "output_type": "execute_result"
    }
   ],
   "source": [
    "#eliminating those who rate the book under 10\n",
    "common_books = common_books[common_books[\"User-ID\"].map(common_books[\"User-ID\"].value_counts()) >= 10]\n",
    "common_books[\"User-ID\"].value_counts()"
   ]
  },
  {
   "cell_type": "code",
   "execution_count": 21,
   "metadata": {},
   "outputs": [],
   "source": [
    "user_book_df = common_books.pivot_table(index=[\"User-ID\"],\n",
    "                                        columns=[\"Book-Title\"],values=\"Book-Rating\")"
   ]
  },
  {
   "cell_type": "code",
   "execution_count": 34,
   "metadata": {},
   "outputs": [],
   "source": [
    "#Randomly selecting user\n",
    "random_user = 1320"
   ]
  },
  {
   "cell_type": "code",
   "execution_count": 23,
   "metadata": {},
   "outputs": [
    {
     "data": {
      "text/html": [
       "<div>\n",
       "<style scoped>\n",
       "    .dataframe tbody tr th:only-of-type {\n",
       "        vertical-align: middle;\n",
       "    }\n",
       "\n",
       "    .dataframe tbody tr th {\n",
       "        vertical-align: top;\n",
       "    }\n",
       "\n",
       "    .dataframe thead th {\n",
       "        text-align: right;\n",
       "    }\n",
       "</style>\n",
       "<table border=\"1\" class=\"dataframe\">\n",
       "  <thead>\n",
       "    <tr style=\"text-align: right;\">\n",
       "      <th>Book-Title</th>\n",
       "      <th>1984</th>\n",
       "      <th>1st to Die: A Novel</th>\n",
       "      <th>2nd Chance</th>\n",
       "      <th>A Bend in the Road</th>\n",
       "      <th>A Child Called \\It\\\": One Child's Courage to Survive\"</th>\n",
       "      <th>A Heartbreaking Work of Staggering Genius</th>\n",
       "      <th>A Is for Alibi (Kinsey Millhone Mysteries (Paperback))</th>\n",
       "      <th>A Map of the World</th>\n",
       "      <th>A Painted House</th>\n",
       "      <th>A Prayer for Owen Meany</th>\n",
       "      <th>...</th>\n",
       "      <th>Watership Down</th>\n",
       "      <th>We Were the Mulvaneys</th>\n",
       "      <th>When the Wind Blows</th>\n",
       "      <th>Where the Heart Is (Oprah's Book Club (Paperback))</th>\n",
       "      <th>While I Was Gone</th>\n",
       "      <th>White Oleander : A Novel</th>\n",
       "      <th>White Oleander : A Novel (Oprah's Book Club)</th>\n",
       "      <th>Wicked: The Life and Times of the Wicked Witch of the West</th>\n",
       "      <th>Wild Animus</th>\n",
       "      <th>\\O\\\" Is for Outlaw\"</th>\n",
       "    </tr>\n",
       "    <tr>\n",
       "      <th>User-ID</th>\n",
       "      <th></th>\n",
       "      <th></th>\n",
       "      <th></th>\n",
       "      <th></th>\n",
       "      <th></th>\n",
       "      <th></th>\n",
       "      <th></th>\n",
       "      <th></th>\n",
       "      <th></th>\n",
       "      <th></th>\n",
       "      <th></th>\n",
       "      <th></th>\n",
       "      <th></th>\n",
       "      <th></th>\n",
       "      <th></th>\n",
       "      <th></th>\n",
       "      <th></th>\n",
       "      <th></th>\n",
       "      <th></th>\n",
       "      <th></th>\n",
       "      <th></th>\n",
       "    </tr>\n",
       "  </thead>\n",
       "  <tbody>\n",
       "  </tbody>\n",
       "</table>\n",
       "<p>0 rows × 200 columns</p>\n",
       "</div>"
      ],
      "text/plain": [
       "Empty DataFrame\n",
       "Columns: [1984, 1st to Die: A Novel, 2nd Chance, A Bend in the Road, A Child Called \\It\\\": One Child's Courage to Survive\", A Heartbreaking Work of Staggering Genius, A Is for Alibi (Kinsey Millhone Mysteries (Paperback)), A Map of the World, A Painted House, A Prayer for Owen Meany, A Time to Kill, A Walk in the Woods: Rediscovering America on the Appalachian Trail (Official Guides to the Appalachian Trail), A Walk to Remember, ANGELA'S ASHES, About a Boy, Airframe, Along Came a Spider (Alex Cross Novels), American Gods, Angela's Ashes (MMP) : A Memoir, Angels &amp; Demons, Animal Farm, Artemis Fowl (Artemis Fowl, Book 1), Back Roads, Balzac and the Little Chinese Seamstress : A Novel, Bel Canto: A Novel, Black House, Black Notice, Brave New World, Bridget Jones's Diary, Bridget Jones: The Edge of Reason, Cause of Death, Chocolat, Cold Mountain : A Novel, Confessions of a Shopaholic (Summer Display Opportunity), Congo, Cradle and All, Daddy's Little Girl, Dance upon the Air (Three Sisters Island Trilogy), Deception Point, Digital Fortress : A Thriller, Disclosure, Divine Secrets of the Ya-Ya Sisterhood: A Novel, Dolores Claiborne, Don't Sweat the Small Stuff and It's All Small Stuff : Simple Ways to Keep the Little Things from Taking Over Your Life (Don't Sweat the Small Stuff Series), Dreamcatcher, Empire Falls, Ender's Game (Ender Wiggins Saga (Paperback)), Fahrenheit 451, Fall On Your Knees (Oprah #45), Fast Food Nation: The Dark Side of the All-American Meal, Four Blind Mice, Four To Score (A Stephanie Plum Novel), Fried Green Tomatoes at the Whistle Stop Cafe, Full House (Janet Evanovich's Full Series), Girl with a Pearl Earring, Girl, Interrupted, Good in Bed, Hannibal, Hard Eight : A Stephanie Plum Novel (A Stephanie Plum Novel), Harry Potter and the Chamber of Secrets (Book 2), Harry Potter and the Goblet of Fire (Book 4), Harry Potter and the Order of the Phoenix (Book 5), Harry Potter and the Prisoner of Azkaban (Book 3), Harry Potter and the Sorcerer's Stone (Book 1), Harry Potter and the Sorcerer's Stone (Harry Potter (Paperback)), High Fidelity, House of Sand and Fog, How to Be Good, I Know This Much Is True, Icy Sparks, Insomnia, Interview with the Vampire, Into Thin Air : A Personal Account of the Mt. Everest Disaster, Into the Wild, Isle of Dogs, It, Jurassic Park, Left Behind: A Novel of the Earth's Last Days (Left Behind No. 1), Life of Pi, Little Altars Everywhere: A Novel, Lord of the Flies, Lucky : A Memoir, Me Talk Pretty One Day, Message in a Bottle, Midnight in the Garden of Good and Evil: A Savannah Story, Midwives: A Novel, Misery, Mystic River, Naked, Neverwhere, Nickel and Dimed: On (Not) Getting By in America, Night, One Door Away from Heaven, One for the Money (Stephanie Plum Novels (Paperback)), Outlander, Pet Sematary, Pigs in Heaven, Point of Origin, Pop Goes the Weasel, Prodigal Summer: A Novel, ...]\n",
       "Index: []\n",
       "\n",
       "[0 rows x 200 columns]"
      ]
     },
     "execution_count": 23,
     "metadata": {},
     "output_type": "execute_result"
    }
   ],
   "source": [
    "# List books by random user\n",
    "random_user_df = user_book_df[user_book_df.index == random_user]\n",
    "random_user_df"
   ]
  },
  {
   "cell_type": "code",
   "execution_count": 24,
   "metadata": {},
   "outputs": [
    {
     "data": {
      "text/plain": [
       "[]"
      ]
     },
     "execution_count": 24,
     "metadata": {},
     "output_type": "execute_result"
    }
   ],
   "source": [
    "# Find books rated by random user\n",
    "books_read = random_user_df.columns[random_user_df.notna().any()].tolist()\n",
    "books_read"
   ]
  },
  {
   "cell_type": "code",
   "execution_count": 25,
   "metadata": {},
   "outputs": [
    {
     "data": {
      "text/plain": [
       "0"
      ]
     },
     "execution_count": 25,
     "metadata": {},
     "output_type": "execute_result"
    }
   ],
   "source": [
    "len(books_read)"
   ]
  },
  {
   "cell_type": "code",
   "execution_count": 26,
   "metadata": {},
   "outputs": [
    {
     "data": {
      "text/html": [
       "<div>\n",
       "<style scoped>\n",
       "    .dataframe tbody tr th:only-of-type {\n",
       "        vertical-align: middle;\n",
       "    }\n",
       "\n",
       "    .dataframe tbody tr th {\n",
       "        vertical-align: top;\n",
       "    }\n",
       "\n",
       "    .dataframe thead th {\n",
       "        text-align: right;\n",
       "    }\n",
       "</style>\n",
       "<table border=\"1\" class=\"dataframe\">\n",
       "  <thead>\n",
       "    <tr style=\"text-align: right;\">\n",
       "      <th>Book-Title</th>\n",
       "    </tr>\n",
       "    <tr>\n",
       "      <th>User-ID</th>\n",
       "    </tr>\n",
       "  </thead>\n",
       "  <tbody>\n",
       "    <tr>\n",
       "      <th>254.0</th>\n",
       "    </tr>\n",
       "    <tr>\n",
       "      <th>638.0</th>\n",
       "    </tr>\n",
       "    <tr>\n",
       "      <th>2766.0</th>\n",
       "    </tr>\n",
       "    <tr>\n",
       "      <th>4017.0</th>\n",
       "    </tr>\n",
       "    <tr>\n",
       "      <th>6242.0</th>\n",
       "    </tr>\n",
       "    <tr>\n",
       "      <th>...</th>\n",
       "    </tr>\n",
       "    <tr>\n",
       "      <th>274004.0</th>\n",
       "    </tr>\n",
       "    <tr>\n",
       "      <th>274301.0</th>\n",
       "    </tr>\n",
       "    <tr>\n",
       "      <th>276050.0</th>\n",
       "    </tr>\n",
       "    <tr>\n",
       "      <th>276165.0</th>\n",
       "    </tr>\n",
       "    <tr>\n",
       "      <th>276231.0</th>\n",
       "    </tr>\n",
       "  </tbody>\n",
       "</table>\n",
       "<p>434 rows × 0 columns</p>\n",
       "</div>"
      ],
      "text/plain": [
       "Empty DataFrame\n",
       "Columns: []\n",
       "Index: [254.0, 638.0, 2766.0, 4017.0, 6242.0, 6251.0, 6543.0, 6563.0, 6575.0, 7158.0, 7346.0, 7915.0, 8245.0, 8253.0, 8454.0, 10314.0, 10447.0, 10560.0, 11224.0, 11676.0, 13273.0, 13552.0, 14422.0, 15602.0, 16634.0, 16795.0, 17003.0, 17950.0, 20180.0, 21014.0, 21404.0, 21576.0, 22074.0, 22625.0, 23511.0, 23768.0, 23872.0, 23902.0, 24433.0, 25981.0, 27472.0, 28177.0, 28634.0, 29526.0, 30487.0, 30533.0, 30735.0, 30972.0, 31315.0, 31393.0, 31556.0, 31826.0, 32599.0, 32773.0, 33818.0, 34588.0, 35836.0, 35857.0, 35859.0, 36003.0, 36606.0, 36807.0, 36907.0, 37538.0, 37712.0, 37950.0, 38273.0, 39281.0, 39467.0, 40889.0, 41084.0, 41841.0, 43246.0, 43687.0, 43842.0, 43910.0, 46398.0, 46443.0, 48025.0, 52584.0, 53174.0, 53220.0, 53614.0, 54335.0, 55187.0, 55490.0, 55492.0, 56447.0, 56856.0, 57398.0, 60244.0, 62862.0, 62891.0, 64436.0, 66680.0, 66942.0, 67840.0, 68555.0, 69078.0, 69389.0, ...]\n",
       "\n",
       "[434 rows x 0 columns]"
      ]
     },
     "execution_count": 26,
     "metadata": {},
     "output_type": "execute_result"
    }
   ],
   "source": [
    "books_read_df = user_book_df[books_read]\n",
    "books_read_df"
   ]
  },
  {
   "cell_type": "code",
   "execution_count": 27,
   "metadata": {},
   "outputs": [
    {
     "data": {
      "text/plain": [
       "User-ID\n",
       "254.0       0.0\n",
       "638.0       0.0\n",
       "2766.0      0.0\n",
       "4017.0      0.0\n",
       "6242.0      0.0\n",
       "           ... \n",
       "274004.0    0.0\n",
       "274301.0    0.0\n",
       "276050.0    0.0\n",
       "276165.0    0.0\n",
       "276231.0    0.0\n",
       "Length: 434, dtype: float64"
      ]
     },
     "execution_count": 27,
     "metadata": {},
     "output_type": "execute_result"
    }
   ],
   "source": [
    "#Determine how many books each user rating\n",
    "user_book_count = books_read_df.T.notnull().sum()\n",
    "user_book_count"
   ]
  },
  {
   "cell_type": "code",
   "execution_count": 28,
   "metadata": {},
   "outputs": [],
   "source": [
    "# organizing the data set"
   ]
  },
  {
   "cell_type": "code",
   "execution_count": 29,
   "metadata": {},
   "outputs": [
    {
     "data": {
      "text/html": [
       "<div>\n",
       "<style scoped>\n",
       "    .dataframe tbody tr th:only-of-type {\n",
       "        vertical-align: middle;\n",
       "    }\n",
       "\n",
       "    .dataframe tbody tr th {\n",
       "        vertical-align: top;\n",
       "    }\n",
       "\n",
       "    .dataframe thead th {\n",
       "        text-align: right;\n",
       "    }\n",
       "</style>\n",
       "<table border=\"1\" class=\"dataframe\">\n",
       "  <thead>\n",
       "    <tr style=\"text-align: right;\">\n",
       "      <th></th>\n",
       "      <th>User_id</th>\n",
       "      <th>book_count</th>\n",
       "    </tr>\n",
       "  </thead>\n",
       "  <tbody>\n",
       "    <tr>\n",
       "      <th>0</th>\n",
       "      <td>254.0</td>\n",
       "      <td>0.0</td>\n",
       "    </tr>\n",
       "    <tr>\n",
       "      <th>285</th>\n",
       "      <td>184299.0</td>\n",
       "      <td>0.0</td>\n",
       "    </tr>\n",
       "    <tr>\n",
       "      <th>296</th>\n",
       "      <td>190925.0</td>\n",
       "      <td>0.0</td>\n",
       "    </tr>\n",
       "    <tr>\n",
       "      <th>295</th>\n",
       "      <td>189835.0</td>\n",
       "      <td>0.0</td>\n",
       "    </tr>\n",
       "    <tr>\n",
       "      <th>294</th>\n",
       "      <td>188010.0</td>\n",
       "      <td>0.0</td>\n",
       "    </tr>\n",
       "    <tr>\n",
       "      <th>...</th>\n",
       "      <td>...</td>\n",
       "      <td>...</td>\n",
       "    </tr>\n",
       "    <tr>\n",
       "      <th>141</th>\n",
       "      <td>95932.0</td>\n",
       "      <td>0.0</td>\n",
       "    </tr>\n",
       "    <tr>\n",
       "      <th>140</th>\n",
       "      <td>95359.0</td>\n",
       "      <td>0.0</td>\n",
       "    </tr>\n",
       "    <tr>\n",
       "      <th>139</th>\n",
       "      <td>94347.0</td>\n",
       "      <td>0.0</td>\n",
       "    </tr>\n",
       "    <tr>\n",
       "      <th>138</th>\n",
       "      <td>93092.0</td>\n",
       "      <td>0.0</td>\n",
       "    </tr>\n",
       "    <tr>\n",
       "      <th>433</th>\n",
       "      <td>276231.0</td>\n",
       "      <td>0.0</td>\n",
       "    </tr>\n",
       "  </tbody>\n",
       "</table>\n",
       "<p>434 rows × 2 columns</p>\n",
       "</div>"
      ],
      "text/plain": [
       "      User_id  book_count\n",
       "0       254.0         0.0\n",
       "285  184299.0         0.0\n",
       "296  190925.0         0.0\n",
       "295  189835.0         0.0\n",
       "294  188010.0         0.0\n",
       "..        ...         ...\n",
       "141   95932.0         0.0\n",
       "140   95359.0         0.0\n",
       "139   94347.0         0.0\n",
       "138   93092.0         0.0\n",
       "433  276231.0         0.0\n",
       "\n",
       "[434 rows x 2 columns]"
      ]
     },
     "execution_count": 29,
     "metadata": {},
     "output_type": "execute_result"
    }
   ],
   "source": [
    "#Organize the data set\n",
    "user_book_count = user_book_count.reset_index()\n",
    "user_book_count.columns = [\"User_id\", \"book_count\"]\n",
    "user_book_count.sort_values(\"book_count\", ascending=False)"
   ]
  },
  {
   "cell_type": "code",
   "execution_count": 30,
   "metadata": {},
   "outputs": [
    {
     "data": {
      "text/plain": [
       "Series([], Name: User_id, dtype: float64)"
      ]
     },
     "execution_count": 30,
     "metadata": {},
     "output_type": "execute_result"
    }
   ],
   "source": [
    "users_same_book = user_book_count[user_book_count[\"book_count\"]>5][\"User_id\"]\n",
    "users_same_book"
   ]
  },
  {
   "cell_type": "code",
   "execution_count": 31,
   "metadata": {},
   "outputs": [],
   "source": [
    "#Determine the users with the most similar behavior \n",
    "final_df = pd.concat([books_read_df[books_read_df.index.isin(users_same_book)],\n",
    "                      random_user_df[books_read]])"
   ]
  },
  {
   "cell_type": "code",
   "execution_count": 33,
   "metadata": {},
   "outputs": [
    {
     "ename": "ValueError",
     "evalue": "cannot insert User-ID, already exists",
     "output_type": "error",
     "traceback": [
      "\u001b[1;31m---------------------------------------------------------------------------\u001b[0m",
      "\u001b[1;31mValueError\u001b[0m                                Traceback (most recent call last)",
      "\u001b[1;32mc:\\Users\\Summer\\Downloads\\Books.csv\\Book Recommendation.ipynb Cell 27\u001b[0m in \u001b[0;36m5\n\u001b[0;32m      <a href='vscode-notebook-cell:/c%3A/Users/Summer/Downloads/Books.csv/Book%20Recommendation.ipynb#X36sZmlsZQ%3D%3D?line=2'>3</a>\u001b[0m corr_df \u001b[39m=\u001b[39m final_df\u001b[39m.\u001b[39mT\u001b[39m.\u001b[39mcorr()\u001b[39m.\u001b[39munstack()\u001b[39m.\u001b[39msort_values()\u001b[39m.\u001b[39mdrop_duplicates()\n\u001b[0;32m      <a href='vscode-notebook-cell:/c%3A/Users/Summer/Downloads/Books.csv/Book%20Recommendation.ipynb#X36sZmlsZQ%3D%3D?line=3'>4</a>\u001b[0m corr_df \u001b[39m=\u001b[39m pd\u001b[39m.\u001b[39mDataFrame(corr_df,columns \u001b[39m=\u001b[39m[\u001b[39m\"\u001b[39m\u001b[39mcorr\u001b[39m\u001b[39m\"\u001b[39m])\n\u001b[1;32m----> <a href='vscode-notebook-cell:/c%3A/Users/Summer/Downloads/Books.csv/Book%20Recommendation.ipynb#X36sZmlsZQ%3D%3D?line=4'>5</a>\u001b[0m corr_df \u001b[39m=\u001b[39m corr_df\u001b[39m.\u001b[39;49mreset_index()\n\u001b[0;32m      <a href='vscode-notebook-cell:/c%3A/Users/Summer/Downloads/Books.csv/Book%20Recommendation.ipynb#X36sZmlsZQ%3D%3D?line=5'>6</a>\u001b[0m top_users \u001b[39m=\u001b[39m corr_df[(corr_df[\u001b[39m\"\u001b[39m\u001b[39mUser_id_1\u001b[39m\u001b[39m\"\u001b[39m] \u001b[39m==\u001b[39m random_user)][[\u001b[39m\"\u001b[39m\u001b[39mUser_id-2\u001b[39m\u001b[39m\"\u001b[39m,\u001b[39m\"\u001b[39m\u001b[39mcorr\u001b[39m\u001b[39m\"\u001b[39m]]\u001b[39m.\u001b[39mreset_index(drop\u001b[39m=\u001b[39m\u001b[39mTrue\u001b[39;00m)\n\u001b[0;32m      <a href='vscode-notebook-cell:/c%3A/Users/Summer/Downloads/Books.csv/Book%20Recommendation.ipynb#X36sZmlsZQ%3D%3D?line=7'>8</a>\u001b[0m top_users\n",
      "File \u001b[1;32m~\\AppData\\Roaming\\Python\\Python38\\site-packages\\pandas\\util\\_decorators.py:331\u001b[0m, in \u001b[0;36mdeprecate_nonkeyword_arguments.<locals>.decorate.<locals>.wrapper\u001b[1;34m(*args, **kwargs)\u001b[0m\n\u001b[0;32m    325\u001b[0m \u001b[39mif\u001b[39;00m \u001b[39mlen\u001b[39m(args) \u001b[39m>\u001b[39m num_allow_args:\n\u001b[0;32m    326\u001b[0m     warnings\u001b[39m.\u001b[39mwarn(\n\u001b[0;32m    327\u001b[0m         msg\u001b[39m.\u001b[39mformat(arguments\u001b[39m=\u001b[39m_format_argument_list(allow_args)),\n\u001b[0;32m    328\u001b[0m         \u001b[39mFutureWarning\u001b[39;00m,\n\u001b[0;32m    329\u001b[0m         stacklevel\u001b[39m=\u001b[39mfind_stack_level(),\n\u001b[0;32m    330\u001b[0m     )\n\u001b[1;32m--> 331\u001b[0m \u001b[39mreturn\u001b[39;00m func(\u001b[39m*\u001b[39;49margs, \u001b[39m*\u001b[39;49m\u001b[39m*\u001b[39;49mkwargs)\n",
      "File \u001b[1;32m~\\AppData\\Roaming\\Python\\Python38\\site-packages\\pandas\\core\\frame.py:6358\u001b[0m, in \u001b[0;36mDataFrame.reset_index\u001b[1;34m(self, level, drop, inplace, col_level, col_fill, allow_duplicates, names)\u001b[0m\n\u001b[0;32m   6352\u001b[0m         \u001b[39mif\u001b[39;00m lab \u001b[39mis\u001b[39;00m \u001b[39mnot\u001b[39;00m \u001b[39mNone\u001b[39;00m:\n\u001b[0;32m   6353\u001b[0m             \u001b[39m# if we have the codes, extract the values with a mask\u001b[39;00m\n\u001b[0;32m   6354\u001b[0m             level_values \u001b[39m=\u001b[39m algorithms\u001b[39m.\u001b[39mtake(\n\u001b[0;32m   6355\u001b[0m                 level_values, lab, allow_fill\u001b[39m=\u001b[39m\u001b[39mTrue\u001b[39;00m, fill_value\u001b[39m=\u001b[39mlev\u001b[39m.\u001b[39m_na_value\n\u001b[0;32m   6356\u001b[0m             )\n\u001b[1;32m-> 6358\u001b[0m         new_obj\u001b[39m.\u001b[39;49minsert(\n\u001b[0;32m   6359\u001b[0m             \u001b[39m0\u001b[39;49m,\n\u001b[0;32m   6360\u001b[0m             name,\n\u001b[0;32m   6361\u001b[0m             level_values,\n\u001b[0;32m   6362\u001b[0m             allow_duplicates\u001b[39m=\u001b[39;49mallow_duplicates,\n\u001b[0;32m   6363\u001b[0m         )\n\u001b[0;32m   6365\u001b[0m new_obj\u001b[39m.\u001b[39mindex \u001b[39m=\u001b[39m new_index\n\u001b[0;32m   6366\u001b[0m \u001b[39mif\u001b[39;00m \u001b[39mnot\u001b[39;00m inplace:\n",
      "File \u001b[1;32m~\\AppData\\Roaming\\Python\\Python38\\site-packages\\pandas\\core\\frame.py:4814\u001b[0m, in \u001b[0;36mDataFrame.insert\u001b[1;34m(self, loc, column, value, allow_duplicates)\u001b[0m\n\u001b[0;32m   4808\u001b[0m     \u001b[39mraise\u001b[39;00m \u001b[39mValueError\u001b[39;00m(\n\u001b[0;32m   4809\u001b[0m         \u001b[39m\"\u001b[39m\u001b[39mCannot specify \u001b[39m\u001b[39m'\u001b[39m\u001b[39mallow_duplicates=True\u001b[39m\u001b[39m'\u001b[39m\u001b[39m when \u001b[39m\u001b[39m\"\u001b[39m\n\u001b[0;32m   4810\u001b[0m         \u001b[39m\"\u001b[39m\u001b[39m'\u001b[39m\u001b[39mself.flags.allows_duplicate_labels\u001b[39m\u001b[39m'\u001b[39m\u001b[39m is False.\u001b[39m\u001b[39m\"\u001b[39m\n\u001b[0;32m   4811\u001b[0m     )\n\u001b[0;32m   4812\u001b[0m \u001b[39mif\u001b[39;00m \u001b[39mnot\u001b[39;00m allow_duplicates \u001b[39mand\u001b[39;00m column \u001b[39min\u001b[39;00m \u001b[39mself\u001b[39m\u001b[39m.\u001b[39mcolumns:\n\u001b[0;32m   4813\u001b[0m     \u001b[39m# Should this be a different kind of error??\u001b[39;00m\n\u001b[1;32m-> 4814\u001b[0m     \u001b[39mraise\u001b[39;00m \u001b[39mValueError\u001b[39;00m(\u001b[39mf\u001b[39m\u001b[39m\"\u001b[39m\u001b[39mcannot insert \u001b[39m\u001b[39m{\u001b[39;00mcolumn\u001b[39m}\u001b[39;00m\u001b[39m, already exists\u001b[39m\u001b[39m\"\u001b[39m)\n\u001b[0;32m   4815\u001b[0m \u001b[39mif\u001b[39;00m \u001b[39mnot\u001b[39;00m \u001b[39misinstance\u001b[39m(loc, \u001b[39mint\u001b[39m):\n\u001b[0;32m   4816\u001b[0m     \u001b[39mraise\u001b[39;00m \u001b[39mTypeError\u001b[39;00m(\u001b[39m\"\u001b[39m\u001b[39mloc must be int\u001b[39m\u001b[39m\"\u001b[39m)\n",
      "\u001b[1;31mValueError\u001b[0m: cannot insert User-ID, already exists"
     ]
    }
   ],
   "source": [
    "# correlations for all users\n",
    "# organizing the data set\n",
    "corr_df = final_df.T.corr().unstack().sort_values().drop_duplicates()\n",
    "corr_df = pd.DataFrame(corr_df,columns =[\"corr\"])\n",
    "corr_df = corr_df.reset_index()\n",
    "top_users = corr_df[(corr_df[\"User_id_1\"] == random_user)][[\"User_id-2\",\"corr\"]].reset_index(drop=True)\n",
    "\n",
    "top_users"
   ]
  },
  {
   "cell_type": "code",
   "execution_count": null,
   "metadata": {},
   "outputs": [],
   "source": [
    "# other users with 60% Rating\n",
    "top_users = corr_df[(corr_df[\"user_id_1\"] == random_user) & (corr_df[\"corr\"] > 0.06)][\n",
    "    [\"user_id_2\", \"corr\"]].reset_index(drop = True)\n",
    "\n",
    "top_users = top_users.sort_values(by='corr', ascending=False)\n",
    "\n",
    "top_users.rename(columns={\"user_id_2\": \"User-ID\"}, inplace=True)\n",
    "top_users"
   ]
  },
  {
   "cell_type": "code",
   "execution_count": null,
   "metadata": {},
   "outputs": [],
   "source": [
    "top_users_ratings = top_users.merge(ratings[[\"User-ID\",\"ISBN\",\n",
    "                                            \"Book-Rating\"]],how ='inner')\n",
    "top_users_ratings = top_users_ratings[top_users_ratings[\"User-ID\"]\n",
    "                                      != random_user]\n",
    "\n",
    "top_users_ratings"
   ]
  },
  {
   "cell_type": "code",
   "execution_count": null,
   "metadata": {},
   "outputs": [],
   "source": [
    "recommendation_df = top_users_ratings.groupby('ISBN').agg({\"weighted_rating\": \"mean\"})\n",
    "recommendation_df = recommendation_df.reset_index()\n",
    "recommendation_df"
   ]
  },
  {
   "cell_type": "code",
   "execution_count": null,
   "metadata": {},
   "outputs": [],
   "source": [
    "# We list top 10 with a weighted rating \n",
    "books_to_be_recommend = recommendation_df[recommendation_df[\"weighted_rating\"] > 6.5].sort_values(\"weighted_rating\", ascending=False).head(10)\n",
    "\n",
    "books_to_be_recommend"
   ]
  },
  {
   "cell_type": "code",
   "execution_count": null,
   "metadata": {},
   "outputs": [],
   "source": [
    "# we merge df to see the name of books\n",
    "\n",
    "books_to_be_recommend.merge(df[[\"ISBN\", \"Book-Title\"]]).drop_duplicates()"
   ]
  },
  {
   "cell_type": "code",
   "execution_count": null,
   "metadata": {},
   "outputs": [],
   "source": []
  }
 ],
 "metadata": {
  "kernelspec": {
   "display_name": "Python 3",
   "language": "python",
   "name": "python3"
  },
  "language_info": {
   "codemirror_mode": {
    "name": "ipython",
    "version": 3
   },
   "file_extension": ".py",
   "mimetype": "text/x-python",
   "name": "python",
   "nbconvert_exporter": "python",
   "pygments_lexer": "ipython3",
   "version": "3.8.2"
  },
  "orig_nbformat": 4
 },
 "nbformat": 4,
 "nbformat_minor": 2
}
