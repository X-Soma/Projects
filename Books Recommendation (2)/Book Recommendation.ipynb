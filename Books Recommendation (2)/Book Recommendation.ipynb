{
 "cells": [
  {
   "cell_type": "code",
   "execution_count": null,
   "metadata": {},
   "outputs": [],
   "source": [
    "import numpy as np \n",
    "import pandas as pd\n",
    "\n",
    "books = pd.read_csv(\"Books.csv\")\n",
    "ratings = pd.read_csv(\"Ratings.csv\")"
   ]
  },
  {
   "cell_type": "code",
   "execution_count": null,
   "metadata": {},
   "outputs": [],
   "source": [
    "books.head()"
   ]
  },
  {
   "cell_type": "code",
   "execution_count": null,
   "metadata": {},
   "outputs": [],
   "source": [
    "ratings.head()"
   ]
  },
  {
   "cell_type": "code",
   "execution_count": null,
   "metadata": {},
   "outputs": [],
   "source": [
    "df = books.merge(ratings, how=\"left\", on=\"ISBN\" )\n",
    "df.head()"
   ]
  },
  {
   "cell_type": "code",
   "execution_count": null,
   "metadata": {},
   "outputs": [],
   "source": [
    "df.shape"
   ]
  },
  {
   "cell_type": "code",
   "execution_count": null,
   "metadata": {},
   "outputs": [],
   "source": [
    "df.isnull().sum()"
   ]
  },
  {
   "cell_type": "code",
   "execution_count": null,
   "metadata": {},
   "outputs": [],
   "source": [
    "df[df[\"Book-Rating\"].isnull()]"
   ]
  },
  {
   "cell_type": "code",
   "execution_count": null,
   "metadata": {},
   "outputs": [],
   "source": [
    "df = df.dropna(subset=[\"Book-Rating\", \"User-ID\", \"Book-Author\",\"Publisher\",\"Image-URL-L\"])\n",
    "\n",
    "df.isnull().sum()"
   ]
  },
  {
   "cell_type": "code",
   "execution_count": null,
   "metadata": {},
   "outputs": [],
   "source": [
    "df[\"Book-Rating\"].value_counts()"
   ]
  },
  {
   "cell_type": "code",
   "execution_count": null,
   "metadata": {},
   "outputs": [],
   "source": [
    "#Removing non-Book-Rating from the data sets\n",
    "df = df[df[\"Book-Rating\"] > 0]\n",
    "df[\"Book-Rating\"] .value_counts()"
   ]
  },
  {
   "cell_type": "code",
   "execution_count": null,
   "metadata": {},
   "outputs": [],
   "source": [
    "df[\"Book-Title\"].value_counts()"
   ]
  },
  {
   "cell_type": "code",
   "execution_count": null,
   "metadata": {},
   "outputs": [],
   "source": [
    "rating_counts = pd.DataFrame(df[\"Book-Title\"].value_counts())"
   ]
  },
  {
   "cell_type": "code",
   "execution_count": null,
   "metadata": {},
   "outputs": [],
   "source": [
    "rare_books = rating_counts[rating_counts[\"Book-Title\"]< 100].index\n",
    "common_books = df[~df[\"Book-Title\"].isin(rare_books)]\n",
    "common_books[\"Book-Title\"].value_counts()"
   ]
  },
  {
   "cell_type": "code",
   "execution_count": null,
   "metadata": {},
   "outputs": [],
   "source": [
    "common_books[\"User-ID\"].value_counts()"
   ]
  },
  {
   "cell_type": "code",
   "execution_count": null,
   "metadata": {},
   "outputs": [],
   "source": [
    "#eliminating those who rate the book under 10\n",
    "common_books = common_books[common_books[\"User-ID\"].map(common_books[\"User-ID\"].value_counts()) >= 10]\n",
    "common_books[\"User-ID\"].value_counts()"
   ]
  },
  {
   "cell_type": "code",
   "execution_count": null,
   "metadata": {},
   "outputs": [],
   "source": [
    "user_book_df = common_books.pivot_table(index=[\"User-ID\"],\n",
    "                                        columns=[\"Book-Title\"],values=\"Book-Rating\")"
   ]
  },
  {
   "cell_type": "code",
   "execution_count": null,
   "metadata": {},
   "outputs": [],
   "source": [
    "#Randomly selecting user\n",
    "random_user = 1320"
   ]
  },
  {
   "cell_type": "code",
   "execution_count": null,
   "metadata": {},
   "outputs": [],
   "source": [
    "# List books by random user\n",
    "random_user_df = user_book_df[user_book_df.index == random_user]\n",
    "random_user_df"
   ]
  },
  {
   "cell_type": "code",
   "execution_count": null,
   "metadata": {},
   "outputs": [],
   "source": [
    "# Find books rated by random user\n",
    "books_read = random_user_df.columns[random_user_df.notna().any()].tolist()\n",
    "books_read"
   ]
  },
  {
   "cell_type": "code",
   "execution_count": null,
   "metadata": {},
   "outputs": [],
   "source": [
    "len(books_read)"
   ]
  },
  {
   "cell_type": "code",
   "execution_count": null,
   "metadata": {},
   "outputs": [],
   "source": [
    "books_read_df = user_book_df[books_read]\n",
    "books_read_df"
   ]
  },
  {
   "cell_type": "code",
   "execution_count": null,
   "metadata": {},
   "outputs": [],
   "source": [
    "#Determine how many books each user rating\n",
    "user_book_count = books_read_df.T.notnull().sum()\n",
    "user_book_count"
   ]
  },
  {
   "cell_type": "code",
   "execution_count": null,
   "metadata": {},
   "outputs": [],
   "source": [
    "# organizing the data set"
   ]
  },
  {
   "cell_type": "code",
   "execution_count": null,
   "metadata": {},
   "outputs": [],
   "source": [
    "#Organize the data set\n",
    "user_book_count = user_book_count.reset_index()\n",
    "user_book_count.columns = [\"User_id\", \"book_count\"]\n",
    "user_book_count.sort_values(\"book_count\", ascending=False)"
   ]
  },
  {
   "cell_type": "code",
   "execution_count": null,
   "metadata": {},
   "outputs": [],
   "source": [
    "users_same_book = user_book_count[user_book_count[\"book_count\"]>5][\"User_id\"]\n",
    "users_same_book"
   ]
  },
  {
   "cell_type": "code",
   "execution_count": null,
   "metadata": {},
   "outputs": [],
   "source": [
    "#Determine the users with the most similar behavior \n",
    "final_df = pd.concat([books_read_df[books_read_df.index.isin(users_same_book)],\n",
    "                      random_user_df[books_read]])"
   ]
  },
  {
   "cell_type": "code",
   "execution_count": null,
   "metadata": {},
   "outputs": [],
   "source": [
    "# correlations for all users\n",
    "# organizing the data set\n",
    "corr_df = final_df.T.corr().unstack().sort_values().drop_duplicates()\n",
    "corr_df = pd.DataFrame(corr_df,columns =[\"corr\"])\n",
    "corr_df = corr_df.reset_index()\n",
    "top_users = corr_df[(corr_df[\"User_id_1\"] == random_user)][[\"User_id-2\",\"corr\"]].reset_index(drop=True)\n",
    "\n",
    "top_users"
   ]
  },
  {
   "cell_type": "code",
   "execution_count": null,
   "metadata": {},
   "outputs": [],
   "source": [
    "# other users with 60% Rating\n",
    "top_users = corr_df[(corr_df[\"user_id_1\"] == random_user) & (corr_df[\"corr\"] > 0.06)][\n",
    "    [\"user_id_2\", \"corr\"]].reset_index(drop = True)\n",
    "\n",
    "top_users = top_users.sort_values(by='corr', ascending=False)\n",
    "\n",
    "top_users.rename(columns={\"user_id_2\": \"User-ID\"}, inplace=True)\n",
    "top_users"
   ]
  },
  {
   "cell_type": "code",
   "execution_count": null,
   "metadata": {},
   "outputs": [],
   "source": [
    "top_users_ratings = top_users.merge(ratings[[\"User-ID\",\"ISBN\",\n",
    "                                            \"Book-Rating\"]],how ='inner')\n",
    "top_users_ratings = top_users_ratings[top_users_ratings[\"User-ID\"]\n",
    "                                      != random_user]\n",
    "\n",
    "top_users_ratings"
   ]
  },
  {
   "cell_type": "code",
   "execution_count": null,
   "metadata": {},
   "outputs": [],
   "source": [
    "recommendation_df = top_users_ratings.groupby('ISBN').agg({\"weighted_rating\": \"mean\"})\n",
    "recommendation_df = recommendation_df.reset_index()\n",
    "recommendation_df"
   ]
  },
  {
   "cell_type": "code",
   "execution_count": null,
   "metadata": {},
   "outputs": [],
   "source": [
    "# We list top 10 with a weighted rating \n",
    "books_to_be_recommend = recommendation_df[recommendation_df[\"weighted_rating\"] > 6.5].sort_values(\"weighted_rating\", ascending=False).head(10)\n",
    "\n",
    "books_to_be_recommend"
   ]
  },
  {
   "cell_type": "code",
   "execution_count": null,
   "metadata": {},
   "outputs": [],
   "source": [
    "# we merge df to see the name of books\n",
    "\n",
    "books_to_be_recommend.merge(df[[\"ISBN\", \"Book-Title\"]]).drop_duplicates()"
   ]
  },
  {
   "cell_type": "code",
   "execution_count": null,
   "metadata": {},
   "outputs": [],
   "source": []
  }
 ],
 "metadata": {
  "kernelspec": {
   "display_name": "Python 3",
   "language": "python",
   "name": "python3"
  },
  "language_info": {
   "codemirror_mode": {
    "name": "ipython",
    "version": 3
   },
   "file_extension": ".py",
   "mimetype": "text/x-python",
   "name": "python",
   "nbconvert_exporter": "python",
   "pygments_lexer": "ipython3",
   "version": "3.8.2"
  },
  "orig_nbformat": 4
 },
 "nbformat": 4,
 "nbformat_minor": 2
}
